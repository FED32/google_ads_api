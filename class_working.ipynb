{
 "cells": [
  {
   "cell_type": "markdown",
   "id": "9d488e2b",
   "metadata": {},
   "source": [
    "### Полезные ссылки:\n",
    "\n",
    "https://ads.google.com\n",
    "\n",
    "https://developers.google.com/google-ads/api/docs/campaigns/overview\n",
    "\n",
    "https://developers.google.com/google-ads/api/docs/client-libs/python\n",
    "\n",
    "https://pypi.org/project/google-ads/\n",
    "\n",
    "https://github.com/googleads/google-ads-python/#getting-started\n",
    "\n",
    "\n",
    "https://github.com/googleads/google-ads-python/blob/main/google/ads/googleads/v11/enums/types/advertising_channel_type.py\n",
    "\n",
    "https://developers.google.com/google-ads/api/docs/client-libs/python/proto-getters\n",
    "    \n",
    "Приложение:\n",
    "\n",
    "https://console.cloud.google.com/apis/dashboard?hl=ru&project=ace-axon-365313  "
   ]
  },
  {
   "cell_type": "code",
   "execution_count": 2,
   "id": "e2ac95b4",
   "metadata": {},
   "outputs": [],
   "source": [
    "import pandas as pd\n",
    "import numpy as np\n",
    "import datetime\n",
    "\n",
    "from ecom_g_ads import GAdsEcomru"
   ]
  },
  {
   "cell_type": "code",
   "execution_count": 3,
   "id": "fe693d6c",
   "metadata": {},
   "outputs": [],
   "source": [
    "client_id = '882625814003-6nch7kt11lr2qp3asqccafn59mp19pt8.apps.googleusercontent.com'\n",
    "client_secret = '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'\n",
    "developer_token = 'icwS2CBX2XXONwAfENfGKw'\n",
    "\n",
    "login_customer_id='8294188123'\n",
    "refresh_token = '1//0cZXEopNkaTPGCgYIARAAGAwSNwF-L9IrUNiUyz4jfNHwOt7FvocTG6aIR8gD-03exboKN2-PIEsTVSlG8F2Y7tLFUWlbzfbvkvU'"
   ]
  },
  {
   "cell_type": "code",
   "execution_count": 4,
   "id": "b90e2e79",
   "metadata": {},
   "outputs": [],
   "source": [
    "gads = GAdsEcomru(client_id=client_id, \n",
    "                  client_secret=client_secret, \n",
    "                  developer_token=developer_token,\n",
    "                  login_customer_id=login_customer_id,\n",
    "                  refresh_token=refresh_token)"
   ]
  },
  {
   "cell_type": "code",
   "execution_count": 5,
   "id": "85d2eba9",
   "metadata": {},
   "outputs": [
    {
     "data": {
      "text/plain": [
       "<google.ads.googleads.client.GoogleAdsClient at 0x27290169580>"
      ]
     },
     "execution_count": 5,
     "metadata": {},
     "output_type": "execute_result"
    }
   ],
   "source": [
    "gads.client"
   ]
  },
  {
   "cell_type": "markdown",
   "id": "3f0614b3",
   "metadata": {},
   "source": [
    "### Запрос кампаний"
   ]
  },
  {
   "cell_type": "code",
   "execution_count": 6,
   "id": "dfbbeb39",
   "metadata": {},
   "outputs": [
    {
     "data": {
      "text/plain": [
       "[{'campaign_id': 18616867140, 'campaign_name': 'Sales-Search-1'},\n",
       " {'campaign_id': 18798518142,\n",
       "  'campaign_name': 'Тестовая api кампания d60a37e3-5c33-4042-9b6a-d241c63d39d3'},\n",
       " {'campaign_id': 18805153418,\n",
       "  'campaign_name': 'Тестовая api кампания 6153de4e-b8aa-43ee-9d38-a406a644015f'},\n",
       " {'campaign_id': 18805988846,\n",
       "  'campaign_name': 'Тестовая api кампания 2 3656bf54-4efa-4855-b2bd-07b64a3d7e63'}]"
      ]
     },
     "execution_count": 6,
     "metadata": {},
     "output_type": "execute_result"
    }
   ],
   "source": [
    "customer_id='2200886572'\n",
    "# customer_id='4246128464'\n",
    "# customer_id='8294188123'\n",
    "\n",
    "campaigns = gads.get_campaigns(customer_id=customer_id)\n",
    "campaigns"
   ]
  },
  {
   "cell_type": "code",
   "execution_count": 7,
   "id": "3c9f2704",
   "metadata": {},
   "outputs": [
    {
     "data": {
      "text/html": [
       "<div>\n",
       "<style scoped>\n",
       "    .dataframe tbody tr th:only-of-type {\n",
       "        vertical-align: middle;\n",
       "    }\n",
       "\n",
       "    .dataframe tbody tr th {\n",
       "        vertical-align: top;\n",
       "    }\n",
       "\n",
       "    .dataframe thead th {\n",
       "        text-align: right;\n",
       "    }\n",
       "</style>\n",
       "<table border=\"1\" class=\"dataframe\">\n",
       "  <thead>\n",
       "    <tr style=\"text-align: right;\">\n",
       "      <th></th>\n",
       "      <th>campaign_id</th>\n",
       "      <th>campaign_name</th>\n",
       "    </tr>\n",
       "  </thead>\n",
       "  <tbody>\n",
       "    <tr>\n",
       "      <th>0</th>\n",
       "      <td>18616867140</td>\n",
       "      <td>Sales-Search-1</td>\n",
       "    </tr>\n",
       "    <tr>\n",
       "      <th>1</th>\n",
       "      <td>18798518142</td>\n",
       "      <td>Тестовая api кампания d60a37e3-5c33-4042-9b6a-...</td>\n",
       "    </tr>\n",
       "    <tr>\n",
       "      <th>2</th>\n",
       "      <td>18805153418</td>\n",
       "      <td>Тестовая api кампания 6153de4e-b8aa-43ee-9d38-...</td>\n",
       "    </tr>\n",
       "    <tr>\n",
       "      <th>3</th>\n",
       "      <td>18805988846</td>\n",
       "      <td>Тестовая api кампания 2 3656bf54-4efa-4855-b2b...</td>\n",
       "    </tr>\n",
       "  </tbody>\n",
       "</table>\n",
       "</div>"
      ],
      "text/plain": [
       "   campaign_id                                      campaign_name\n",
       "0  18616867140                                     Sales-Search-1\n",
       "1  18798518142  Тестовая api кампания d60a37e3-5c33-4042-9b6a-...\n",
       "2  18805153418  Тестовая api кампания 6153de4e-b8aa-43ee-9d38-...\n",
       "3  18805988846  Тестовая api кампания 2 3656bf54-4efa-4855-b2b..."
      ]
     },
     "execution_count": 7,
     "metadata": {},
     "output_type": "execute_result"
    }
   ],
   "source": [
    "pd.DataFrame(campaigns)"
   ]
  },
  {
   "cell_type": "markdown",
   "id": "8215e7e7",
   "metadata": {},
   "source": [
    "### План ключевых слов аккаунта"
   ]
  },
  {
   "cell_type": "code",
   "execution_count": 8,
   "id": "00df27a2",
   "metadata": {},
   "outputs": [],
   "source": [
    "# keyword_plan = gads.create_keyword_plan(customer_id=customer_id)\n",
    "# keyword_plan"
   ]
  },
  {
   "cell_type": "markdown",
   "id": "1e060867",
   "metadata": {},
   "source": [
    "### План ключевых слов кампании"
   ]
  },
  {
   "cell_type": "code",
   "execution_count": 9,
   "id": "93007714",
   "metadata": {},
   "outputs": [],
   "source": [
    "# keyword_plan_campaign = gads.create_keyword_plan_campaign(customer_id=customer_id, \n",
    "#                                                           keyword_plan=keyword_plan, \n",
    "#                                                           language=\"languageConstants/1000\")\n",
    "# keyword_plan_campaign"
   ]
  },
  {
   "cell_type": "markdown",
   "id": "b1d80d58",
   "metadata": {},
   "source": [
    "### План ключевых слов группы объявлений"
   ]
  },
  {
   "cell_type": "code",
   "execution_count": 10,
   "id": "1a455b9d",
   "metadata": {},
   "outputs": [],
   "source": [
    "# keyword_plan_ad_group = gads.create_keyword_plan_ad_group(customer_id=customer_id, \n",
    "#                                                           keyword_plan_campaign=keyword_plan_campaign)\n",
    "# keyword_plan_ad_group"
   ]
  },
  {
   "cell_type": "markdown",
   "id": "6825d665",
   "metadata": {},
   "source": [
    "### План ключевых слов группы ключевых слов"
   ]
  },
  {
   "cell_type": "code",
   "execution_count": 11,
   "id": "3221fc82",
   "metadata": {},
   "outputs": [],
   "source": [
    "# keyword_plan_ad_group_keywords = gads.create_keyword_plan_ad_group_keywords(customer_id=customer_id,\n",
    "#                                                                             plan_ad_group=keyword_plan_ad_group,\n",
    "#                                                                             keywords=['аналитика маркетплейсов', 'сервисы для маркетплейсов'],\n",
    "#                                                                             bids=[15, 10]\n",
    "#                                                                       )\n",
    "# keyword_plan_ad_group_keywords"
   ]
  },
  {
   "cell_type": "markdown",
   "id": "6683aecd",
   "metadata": {},
   "source": [
    "### Минус-слова"
   ]
  },
  {
   "cell_type": "code",
   "execution_count": 12,
   "id": "750bf265",
   "metadata": {},
   "outputs": [],
   "source": [
    "# negative_campaign_keywords = gads.create_keyword_plan_negative_campaign_keywords(customer_id=customer_id, \n",
    "#                                                                                  plan_campaign=keyword_plan_campaign, \n",
    "#                                                                                  negative_keywords=['озон', 'вайлдбериз'])"
   ]
  },
  {
   "cell_type": "markdown",
   "id": "79c1dd1b",
   "metadata": {},
   "source": [
    "### Создание плана ключевых слов"
   ]
  },
  {
   "cell_type": "code",
   "execution_count": 13,
   "id": "5141117c",
   "metadata": {},
   "outputs": [],
   "source": [
    "# gads.add_keyword_plan(customer_id=customer_id,\n",
    "#                       language=\"languageConstants/1000\",\n",
    "#                       keywords=['аналитика маркетплейсов', 'сервисы для маркетплейсов'], \n",
    "#                       bids=[15, 10], \n",
    "#                       negative_keywords=['озон', 'вайлдбериз'],\n",
    "#                       keyword_plan_name='Test Keyword plan for traffic estimate',\n",
    "#                       keyword_plan_campaign_name='Test Keyword plan campaign',\n",
    "#                       keyword_plan_ad_group_name='Test Keyword plan ad group')"
   ]
  },
  {
   "cell_type": "code",
   "execution_count": null,
   "id": "77d147df",
   "metadata": {},
   "outputs": [],
   "source": []
  },
  {
   "cell_type": "markdown",
   "id": "1111d576",
   "metadata": {},
   "source": [
    "### Создать кампанию"
   ]
  },
  {
   "cell_type": "code",
   "execution_count": 14,
   "id": "ec982c59",
   "metadata": {},
   "outputs": [],
   "source": [
    "# gads.add_campaign(customer_id=customer_id,\n",
    "#                      campaign_budget_name='test budget',\n",
    "#                      campaign_budget_amount_micros=1000000,\n",
    "#                      campaign_name='Тестовая api кампания 2',\n",
    "#                      date_from='2022-11-10',\n",
    "#                      date_to='2022-11-15',\n",
    "#                      enhanced_cpc_enabled=True,\n",
    "#                      target_google_search=True,\n",
    "#                      target_search_network=True,\n",
    "#                      target_partner_search_network=False,\n",
    "#                      target_content_network=True\n",
    "#                      )"
   ]
  },
  {
   "cell_type": "markdown",
   "id": "d4223f25",
   "metadata": {},
   "source": [
    "### Создать группу"
   ]
  },
  {
   "cell_type": "code",
   "execution_count": 15,
   "id": "623c1aca",
   "metadata": {},
   "outputs": [],
   "source": [
    "# group = gads.create_ad_group(customer_id=customer_id, campaign_id=18805988846, name='тестовая группа 4', bid=10)\n",
    "# print(group)"
   ]
  },
  {
   "cell_type": "markdown",
   "id": "8181436a",
   "metadata": {},
   "source": [
    "### Создать ключевое слово"
   ]
  },
  {
   "cell_type": "code",
   "execution_count": 16,
   "id": "53a5967c",
   "metadata": {},
   "outputs": [],
   "source": [
    "# keyword = gads.add_keyword(customer_id=customer_id, \n",
    "#                            ad_group_id=146088554634, \n",
    "#                            keyword_text='купить стол', \n",
    "#                            negative=False)\n",
    "\n",
    "# keyword"
   ]
  },
  {
   "cell_type": "code",
   "execution_count": 17,
   "id": "5d5d5fae",
   "metadata": {},
   "outputs": [],
   "source": [
    "# keyword = gads.add_keyword(customer_id=customer_id, \n",
    "#                            ad_group_id=146088554634, \n",
    "#                            keyword_text='кровать', \n",
    "#                            negative=True)"
   ]
  },
  {
   "cell_type": "code",
   "execution_count": null,
   "id": "32bbcf54",
   "metadata": {},
   "outputs": [],
   "source": []
  },
  {
   "cell_type": "markdown",
   "id": "f29ac9c3",
   "metadata": {},
   "source": [
    "### Группы"
   ]
  },
  {
   "cell_type": "code",
   "execution_count": 18,
   "id": "63792f45",
   "metadata": {},
   "outputs": [
    {
     "name": "stdout",
     "output_type": "stream",
     "text": [
      "Ad group with ID 146088554634 and name \"тестовая группа 4 5872cc22-4f4d-4bfb-baa2-5aa9adef5aea\" was found in campaign with ID 18805988846.\n"
     ]
    },
    {
     "data": {
      "text/plain": [
       "[{'ad_group_id': 146088554634,\n",
       "  'ad_group_name': 'тестовая группа 4 5872cc22-4f4d-4bfb-baa2-5aa9adef5aea',\n",
       "  'campaign_id': 18805988846}]"
      ]
     },
     "execution_count": 18,
     "metadata": {},
     "output_type": "execute_result"
    }
   ],
   "source": [
    "gads.get_ad_groups(customer_id, page_size=1000, campaign_id=18805988846)"
   ]
  },
  {
   "cell_type": "code",
   "execution_count": 19,
   "id": "dca1cc95",
   "metadata": {},
   "outputs": [
    {
     "name": "stdout",
     "output_type": "stream",
     "text": [
      "Ad group with ID 138291252410 and name \"тестовая группа 3 560d471c-a1a9-4bfb-ae89-68f9dc79ac76\" was found in campaign with ID 18616867140.\n",
      "Ad group with ID 142715581403 and name \"тестовая группа 2 892dcaab-1cdb-4a25-aa8d-5cfd00beb6d7\" was found in campaign with ID 18616867140.\n",
      "Ad group with ID 145483076147 and name \"Группа объявлений 1\" was found in campaign with ID 18616867140.\n",
      "Ad group with ID 146088554634 and name \"тестовая группа 4 5872cc22-4f4d-4bfb-baa2-5aa9adef5aea\" was found in campaign with ID 18805988846.\n",
      "Ad group with ID 146496331361 and name \"Группа объявлений 2\" was found in campaign with ID 18616867140.\n",
      "Ad group with ID 148688849408 and name \"тестовая группа 7cffc9c1-7232-4cf4-a6cd-75807062ec08\" was found in campaign with ID 18616867140.\n"
     ]
    },
    {
     "data": {
      "text/html": [
       "<div>\n",
       "<style scoped>\n",
       "    .dataframe tbody tr th:only-of-type {\n",
       "        vertical-align: middle;\n",
       "    }\n",
       "\n",
       "    .dataframe tbody tr th {\n",
       "        vertical-align: top;\n",
       "    }\n",
       "\n",
       "    .dataframe thead th {\n",
       "        text-align: right;\n",
       "    }\n",
       "</style>\n",
       "<table border=\"1\" class=\"dataframe\">\n",
       "  <thead>\n",
       "    <tr style=\"text-align: right;\">\n",
       "      <th></th>\n",
       "      <th>ad_group_id</th>\n",
       "      <th>ad_group_name</th>\n",
       "      <th>campaign_id</th>\n",
       "    </tr>\n",
       "  </thead>\n",
       "  <tbody>\n",
       "    <tr>\n",
       "      <th>0</th>\n",
       "      <td>138291252410</td>\n",
       "      <td>тестовая группа 3 560d471c-a1a9-4bfb-ae89-68f9...</td>\n",
       "      <td>18616867140</td>\n",
       "    </tr>\n",
       "    <tr>\n",
       "      <th>1</th>\n",
       "      <td>142715581403</td>\n",
       "      <td>тестовая группа 2 892dcaab-1cdb-4a25-aa8d-5cfd...</td>\n",
       "      <td>18616867140</td>\n",
       "    </tr>\n",
       "    <tr>\n",
       "      <th>2</th>\n",
       "      <td>145483076147</td>\n",
       "      <td>Группа объявлений 1</td>\n",
       "      <td>18616867140</td>\n",
       "    </tr>\n",
       "    <tr>\n",
       "      <th>3</th>\n",
       "      <td>146088554634</td>\n",
       "      <td>тестовая группа 4 5872cc22-4f4d-4bfb-baa2-5aa9...</td>\n",
       "      <td>18805988846</td>\n",
       "    </tr>\n",
       "    <tr>\n",
       "      <th>4</th>\n",
       "      <td>146496331361</td>\n",
       "      <td>Группа объявлений 2</td>\n",
       "      <td>18616867140</td>\n",
       "    </tr>\n",
       "    <tr>\n",
       "      <th>5</th>\n",
       "      <td>148688849408</td>\n",
       "      <td>тестовая группа 7cffc9c1-7232-4cf4-a6cd-758070...</td>\n",
       "      <td>18616867140</td>\n",
       "    </tr>\n",
       "  </tbody>\n",
       "</table>\n",
       "</div>"
      ],
      "text/plain": [
       "    ad_group_id                                      ad_group_name  \\\n",
       "0  138291252410  тестовая группа 3 560d471c-a1a9-4bfb-ae89-68f9...   \n",
       "1  142715581403  тестовая группа 2 892dcaab-1cdb-4a25-aa8d-5cfd...   \n",
       "2  145483076147                                Группа объявлений 1   \n",
       "3  146088554634  тестовая группа 4 5872cc22-4f4d-4bfb-baa2-5aa9...   \n",
       "4  146496331361                                Группа объявлений 2   \n",
       "5  148688849408  тестовая группа 7cffc9c1-7232-4cf4-a6cd-758070...   \n",
       "\n",
       "   campaign_id  \n",
       "0  18616867140  \n",
       "1  18616867140  \n",
       "2  18616867140  \n",
       "3  18805988846  \n",
       "4  18616867140  \n",
       "5  18616867140  "
      ]
     },
     "execution_count": 19,
     "metadata": {},
     "output_type": "execute_result"
    }
   ],
   "source": [
    "all_ad_groups = gads.get_ad_groups(customer_id, page_size=1000, campaign_id=None)\n",
    "pd.DataFrame(all_ad_groups)"
   ]
  },
  {
   "cell_type": "code",
   "execution_count": 20,
   "id": "af692eca",
   "metadata": {},
   "outputs": [
    {
     "name": "stderr",
     "output_type": "stream",
     "text": [
      "Request made: ClientCustomerId: 123, Host: googleads.googleapis.com, Method: /google.ads.googleads.v11.services.GoogleAdsService/Search, RequestId: MrzEjz0OTQdUuqXhWb2qeg, IsFault: True, FaultMessage: Invalid customer ID '123'.\n"
     ]
    },
    {
     "name": "stdout",
     "output_type": "stream",
     "text": [
      "Request with ID \"MrzEjz0OTQdUuqXhWb2qeg\" failed with status \"INVALID_ARGUMENT\" and includes the following errors:\n",
      "\tError with message \"Invalid customer ID '123'.\".\n"
     ]
    }
   ],
   "source": [
    "gads.get_ad_groups(customer_id='123', page_size=1000, campaign_id=18805988846)"
   ]
  },
  {
   "cell_type": "markdown",
   "id": "5ebfb7ff",
   "metadata": {},
   "source": [
    "### Ключевые слова"
   ]
  },
  {
   "cell_type": "code",
   "execution_count": 21,
   "id": "7f8f2d81",
   "metadata": {},
   "outputs": [
    {
     "name": "stdout",
     "output_type": "stream",
     "text": [
      "Keyword with text \"кровать\", match type 2, criteria type 2, and ID 419962360 was found in ad group with ID 146088554634 and resource name 'customers/2200886572/adGroups/146088554634'.\n",
      "Keyword with text \"купить стол\", match type 2, criteria type 2, and ID 1249946094 was found in ad group with ID 146088554634 and resource name 'customers/2200886572/adGroups/146088554634'.\n",
      "Keyword with text \"купить диван\", match type 2, criteria type 2, and ID 3952092937 was found in ad group with ID 146088554634 and resource name 'customers/2200886572/adGroups/146088554634'.\n"
     ]
    },
    {
     "data": {
      "text/plain": [
       "[{'keyword_text': 'кровать',\n",
       "  'match_type': 'EXACT',\n",
       "  'criteria_type': 'KEYWORD',\n",
       "  'criterion_id': 419962360,\n",
       "  'ad_group_id': 146088554634,\n",
       "  'resource_name_log_statement': \" and resource name 'customers/2200886572/adGroups/146088554634'\"},\n",
       " {'keyword_text': 'купить стол',\n",
       "  'match_type': 'EXACT',\n",
       "  'criteria_type': 'KEYWORD',\n",
       "  'criterion_id': 1249946094,\n",
       "  'ad_group_id': 146088554634,\n",
       "  'resource_name_log_statement': \" and resource name 'customers/2200886572/adGroups/146088554634'\"},\n",
       " {'keyword_text': 'купить диван',\n",
       "  'match_type': 'EXACT',\n",
       "  'criteria_type': 'KEYWORD',\n",
       "  'criterion_id': 3952092937,\n",
       "  'ad_group_id': 146088554634,\n",
       "  'resource_name_log_statement': \" and resource name 'customers/2200886572/adGroups/146088554634'\"}]"
      ]
     },
     "execution_count": 21,
     "metadata": {},
     "output_type": "execute_result"
    }
   ],
   "source": [
    "keywords = gads.get_keywords(customer_id,\n",
    "                             omit_unselected_resource_names=False,\n",
    "                             ad_group_id=146088554634,\n",
    "                             page_size=10000)\n",
    "keywords"
   ]
  },
  {
   "cell_type": "code",
   "execution_count": 22,
   "id": "ebda13d9",
   "metadata": {},
   "outputs": [
    {
     "data": {
      "text/html": [
       "<div>\n",
       "<style scoped>\n",
       "    .dataframe tbody tr th:only-of-type {\n",
       "        vertical-align: middle;\n",
       "    }\n",
       "\n",
       "    .dataframe tbody tr th {\n",
       "        vertical-align: top;\n",
       "    }\n",
       "\n",
       "    .dataframe thead th {\n",
       "        text-align: right;\n",
       "    }\n",
       "</style>\n",
       "<table border=\"1\" class=\"dataframe\">\n",
       "  <thead>\n",
       "    <tr style=\"text-align: right;\">\n",
       "      <th></th>\n",
       "      <th>keyword_text</th>\n",
       "      <th>match_type</th>\n",
       "      <th>criteria_type</th>\n",
       "      <th>criterion_id</th>\n",
       "      <th>ad_group_id</th>\n",
       "      <th>resource_name_log_statement</th>\n",
       "    </tr>\n",
       "  </thead>\n",
       "  <tbody>\n",
       "    <tr>\n",
       "      <th>0</th>\n",
       "      <td>кровать</td>\n",
       "      <td>EXACT</td>\n",
       "      <td>KEYWORD</td>\n",
       "      <td>419962360</td>\n",
       "      <td>146088554634</td>\n",
       "      <td>and resource name 'customers/2200886572/adGro...</td>\n",
       "    </tr>\n",
       "    <tr>\n",
       "      <th>1</th>\n",
       "      <td>купить стол</td>\n",
       "      <td>EXACT</td>\n",
       "      <td>KEYWORD</td>\n",
       "      <td>1249946094</td>\n",
       "      <td>146088554634</td>\n",
       "      <td>and resource name 'customers/2200886572/adGro...</td>\n",
       "    </tr>\n",
       "    <tr>\n",
       "      <th>2</th>\n",
       "      <td>купить диван</td>\n",
       "      <td>EXACT</td>\n",
       "      <td>KEYWORD</td>\n",
       "      <td>3952092937</td>\n",
       "      <td>146088554634</td>\n",
       "      <td>and resource name 'customers/2200886572/adGro...</td>\n",
       "    </tr>\n",
       "  </tbody>\n",
       "</table>\n",
       "</div>"
      ],
      "text/plain": [
       "   keyword_text match_type criteria_type  criterion_id   ad_group_id  \\\n",
       "0       кровать      EXACT       KEYWORD     419962360  146088554634   \n",
       "1   купить стол      EXACT       KEYWORD    1249946094  146088554634   \n",
       "2  купить диван      EXACT       KEYWORD    3952092937  146088554634   \n",
       "\n",
       "                         resource_name_log_statement  \n",
       "0   and resource name 'customers/2200886572/adGro...  \n",
       "1   and resource name 'customers/2200886572/adGro...  \n",
       "2   and resource name 'customers/2200886572/adGro...  "
      ]
     },
     "execution_count": 22,
     "metadata": {},
     "output_type": "execute_result"
    }
   ],
   "source": [
    "pd.DataFrame(keywords)"
   ]
  },
  {
   "cell_type": "code",
   "execution_count": null,
   "id": "5296c68c",
   "metadata": {},
   "outputs": [],
   "source": []
  },
  {
   "cell_type": "markdown",
   "id": "011636db",
   "metadata": {},
   "source": [
    "### Создать адаптивное поисковое объявление"
   ]
  },
  {
   "cell_type": "code",
   "execution_count": 23,
   "id": "b1146bff",
   "metadata": {},
   "outputs": [],
   "source": [
    "# responsive_search_ad = gads.add_responsive_search_ad(\n",
    "#     customer_id=customer_id, ad_group_id='146088554634',\n",
    "#     final_url='https://ecomru.ru',\n",
    "#     headlines_=['Заведение на маркетплейсы', 'Продвижение на маркетплейсах','E-commerce интеграция'],\n",
    "#     descriptions_=['Интегрируем все ваши продукты, готовим продуктовые страницы к продаже', \n",
    "#                    'Помогаем продвинуть товары через инструменты рекламы на площадках', \n",
    "#                    'Быстрое подключение ко всем маркетплейсам через единый API'],\n",
    "#     text_p1=None,\n",
    "#     text_p2=None,\n",
    "#     pinned_headline_=True)\n",
    "\n",
    "# responsive_search_ad"
   ]
  },
  {
   "cell_type": "code",
   "execution_count": null,
   "id": "efdf7481",
   "metadata": {},
   "outputs": [],
   "source": []
  },
  {
   "cell_type": "markdown",
   "id": "83967561",
   "metadata": {},
   "source": [
    "### Развернутые текстовые объявления"
   ]
  },
  {
   "cell_type": "code",
   "execution_count": 24,
   "id": "a5666d08",
   "metadata": {},
   "outputs": [],
   "source": [
    "expanded_text_ads = gads.get_expanded_text_ads(customer_id, ad_group_id=None)"
   ]
  },
  {
   "cell_type": "code",
   "execution_count": 25,
   "id": "f22d864c",
   "metadata": {},
   "outputs": [
    {
     "data": {
      "text/plain": [
       "[]"
      ]
     },
     "execution_count": 25,
     "metadata": {},
     "output_type": "execute_result"
    }
   ],
   "source": [
    "expanded_text_ads"
   ]
  },
  {
   "cell_type": "code",
   "execution_count": null,
   "id": "db825d08",
   "metadata": {},
   "outputs": [],
   "source": []
  },
  {
   "cell_type": "markdown",
   "id": "3ad0fbeb",
   "metadata": {},
   "source": [
    "### Адаптивные поисковые объявления"
   ]
  },
  {
   "cell_type": "code",
   "execution_count": 26,
   "id": "25750cda",
   "metadata": {},
   "outputs": [
    {
     "name": "stdout",
     "output_type": "stream",
     "text": [
      "Responsive search ad with resource name \"customers/2200886572/ads/628626126369\", status ENABLED was found.\n",
      "Headlines:\n",
      "\t Продвижение товаров pinned to UNSPECIFIED\n",
      "\t Аналитика маркетплейсов pinned to UNSPECIFIED\n",
      "\t Автоматизация маркетплейсов pinned to UNSPECIFIED\n",
      "\t Увеличение продаж pinned to UNSPECIFIED\n",
      "\t Обучение работе pinned to UNSPECIFIED\n",
      "Descriptions:\n",
      "\t Поможем с контентом pinned to UNSPECIFIED\n",
      "\t Обучим работе pinned to UNSPECIFIED\n",
      "\n",
      "Responsive search ad with resource name \"customers/2200886572/ads/631227293472\", status ENABLED was found.\n",
      "Headlines:\n",
      "\t Продвижение товаров pinned to UNSPECIFIED\n",
      "\t Аналитика маркетплейсов pinned to UNSPECIFIED\n",
      "\t Автоматизация маркетплейсов pinned to UNSPECIFIED\n",
      "\t Увеличение продаж pinned to UNSPECIFIED\n",
      "\t Обучение работе pinned to UNSPECIFIED\n",
      "Descriptions:\n",
      "\t Поможем с контентом pinned to UNSPECIFIED\n",
      "\t Обучим работе pinned to UNSPECIFIED\n",
      "\n",
      "Responsive search ad with resource name \"customers/2200886572/ads/632904395034\", status PAUSED was found.\n",
      "Headlines:\n",
      "\t Заведение на маркетплейсы pinned to HEADLINE_1\n",
      "\t Продвижение на маркетплейсах pinned to UNSPECIFIED\n",
      "\t E-commerce интеграция pinned to UNSPECIFIED\n",
      "Descriptions:\n",
      "\t Интегрируем все ваши продукты, готовим продуктовые страницы к продаже pinned to UNSPECIFIED\n",
      "\t Помогаем продвинуть товары через инструменты рекламы на площадках pinned to UNSPECIFIED\n",
      "\t Быстрое подключение ко всем маркетплейсам через единый API pinned to UNSPECIFIED\n",
      "\n",
      "Responsive search ad with resource name \"customers/2200886572/ads/633025103723\", status PAUSED was found.\n",
      "Headlines:\n",
      "\t Заведение на маркетплейсы pinned to UNSPECIFIED\n",
      "\t Продвижение на маркетплейсах pinned to UNSPECIFIED\n",
      "\t E-commerce интеграция pinned to UNSPECIFIED\n",
      "Descriptions:\n",
      "\t Интегрируем все ваши продукты, готовим продуктовые страницы к продаже pinned to UNSPECIFIED\n",
      "\t Помогаем продвинуть товары через инструменты рекламы на площадках pinned to UNSPECIFIED\n",
      "\t Быстрое подключение ко всем маркетплейсам через единый API pinned to UNSPECIFIED\n",
      "\n"
     ]
    },
    {
     "data": {
      "text/plain": [
       "[{'ad_name': 'customers/2200886572/ads/628626126369',\n",
       "  'ad_group_ad_status_name': 'ENABLED',\n",
       "  'headlines': [{'headline': 'Продвижение товаров',\n",
       "    'pinned_to': 'UNSPECIFIED'},\n",
       "   {'headline': 'Аналитика маркетплейсов', 'pinned_to': 'UNSPECIFIED'},\n",
       "   {'headline': 'Автоматизация маркетплейсов', 'pinned_to': 'UNSPECIFIED'},\n",
       "   {'headline': 'Увеличение продаж', 'pinned_to': 'UNSPECIFIED'},\n",
       "   {'headline': 'Обучение работе', 'pinned_to': 'UNSPECIFIED'}],\n",
       "  'descriptions': [{'description': 'Поможем с контентом',\n",
       "    'pinned_to': 'UNSPECIFIED'},\n",
       "   {'description': 'Обучим работе', 'pinned_to': 'UNSPECIFIED'}]},\n",
       " {'ad_name': 'customers/2200886572/ads/631227293472',\n",
       "  'ad_group_ad_status_name': 'ENABLED',\n",
       "  'headlines': [{'headline': 'Продвижение товаров',\n",
       "    'pinned_to': 'UNSPECIFIED'},\n",
       "   {'headline': 'Аналитика маркетплейсов', 'pinned_to': 'UNSPECIFIED'},\n",
       "   {'headline': 'Автоматизация маркетплейсов', 'pinned_to': 'UNSPECIFIED'},\n",
       "   {'headline': 'Увеличение продаж', 'pinned_to': 'UNSPECIFIED'},\n",
       "   {'headline': 'Обучение работе', 'pinned_to': 'UNSPECIFIED'}],\n",
       "  'descriptions': [{'description': 'Поможем с контентом',\n",
       "    'pinned_to': 'UNSPECIFIED'},\n",
       "   {'description': 'Обучим работе', 'pinned_to': 'UNSPECIFIED'}]},\n",
       " {'ad_name': 'customers/2200886572/ads/632904395034',\n",
       "  'ad_group_ad_status_name': 'PAUSED',\n",
       "  'headlines': [{'headline': 'Заведение на маркетплейсы',\n",
       "    'pinned_to': 'HEADLINE_1'},\n",
       "   {'headline': 'Продвижение на маркетплейсах', 'pinned_to': 'UNSPECIFIED'},\n",
       "   {'headline': 'E-commerce интеграция', 'pinned_to': 'UNSPECIFIED'}],\n",
       "  'descriptions': [{'description': 'Интегрируем все ваши продукты, готовим продуктовые страницы к продаже',\n",
       "    'pinned_to': 'UNSPECIFIED'},\n",
       "   {'description': 'Помогаем продвинуть товары через инструменты рекламы на площадках',\n",
       "    'pinned_to': 'UNSPECIFIED'},\n",
       "   {'description': 'Быстрое подключение ко всем маркетплейсам через единый API',\n",
       "    'pinned_to': 'UNSPECIFIED'}]},\n",
       " {'ad_name': 'customers/2200886572/ads/633025103723',\n",
       "  'ad_group_ad_status_name': 'PAUSED',\n",
       "  'headlines': [{'headline': 'Заведение на маркетплейсы',\n",
       "    'pinned_to': 'UNSPECIFIED'},\n",
       "   {'headline': 'Продвижение на маркетплейсах', 'pinned_to': 'UNSPECIFIED'},\n",
       "   {'headline': 'E-commerce интеграция', 'pinned_to': 'UNSPECIFIED'}],\n",
       "  'descriptions': [{'description': 'Интегрируем все ваши продукты, готовим продуктовые страницы к продаже',\n",
       "    'pinned_to': 'UNSPECIFIED'},\n",
       "   {'description': 'Помогаем продвинуть товары через инструменты рекламы на площадках',\n",
       "    'pinned_to': 'UNSPECIFIED'},\n",
       "   {'description': 'Быстрое подключение ко всем маркетплейсам через единый API',\n",
       "    'pinned_to': 'UNSPECIFIED'}]}]"
      ]
     },
     "execution_count": 26,
     "metadata": {},
     "output_type": "execute_result"
    }
   ],
   "source": [
    "responsive_search_ads = gads.get_responsive_search_ads(customer_id, \n",
    "                                                       page_size=1000,\n",
    "                                                       ad_group_id=None)\n",
    "responsive_search_ads"
   ]
  },
  {
   "cell_type": "code",
   "execution_count": 27,
   "id": "83b6e4bd",
   "metadata": {},
   "outputs": [
    {
     "data": {
      "text/html": [
       "<div>\n",
       "<style scoped>\n",
       "    .dataframe tbody tr th:only-of-type {\n",
       "        vertical-align: middle;\n",
       "    }\n",
       "\n",
       "    .dataframe tbody tr th {\n",
       "        vertical-align: top;\n",
       "    }\n",
       "\n",
       "    .dataframe thead th {\n",
       "        text-align: right;\n",
       "    }\n",
       "</style>\n",
       "<table border=\"1\" class=\"dataframe\">\n",
       "  <thead>\n",
       "    <tr style=\"text-align: right;\">\n",
       "      <th></th>\n",
       "      <th>ad_name</th>\n",
       "      <th>ad_group_ad_status_name</th>\n",
       "      <th>headlines</th>\n",
       "      <th>descriptions</th>\n",
       "    </tr>\n",
       "  </thead>\n",
       "  <tbody>\n",
       "    <tr>\n",
       "      <th>0</th>\n",
       "      <td>customers/2200886572/ads/628626126369</td>\n",
       "      <td>ENABLED</td>\n",
       "      <td>[{'headline': 'Продвижение товаров', 'pinned_t...</td>\n",
       "      <td>[{'description': 'Поможем с контентом', 'pinne...</td>\n",
       "    </tr>\n",
       "    <tr>\n",
       "      <th>1</th>\n",
       "      <td>customers/2200886572/ads/631227293472</td>\n",
       "      <td>ENABLED</td>\n",
       "      <td>[{'headline': 'Продвижение товаров', 'pinned_t...</td>\n",
       "      <td>[{'description': 'Поможем с контентом', 'pinne...</td>\n",
       "    </tr>\n",
       "    <tr>\n",
       "      <th>2</th>\n",
       "      <td>customers/2200886572/ads/632904395034</td>\n",
       "      <td>PAUSED</td>\n",
       "      <td>[{'headline': 'Заведение на маркетплейсы', 'pi...</td>\n",
       "      <td>[{'description': 'Интегрируем все ваши продукт...</td>\n",
       "    </tr>\n",
       "    <tr>\n",
       "      <th>3</th>\n",
       "      <td>customers/2200886572/ads/633025103723</td>\n",
       "      <td>PAUSED</td>\n",
       "      <td>[{'headline': 'Заведение на маркетплейсы', 'pi...</td>\n",
       "      <td>[{'description': 'Интегрируем все ваши продукт...</td>\n",
       "    </tr>\n",
       "  </tbody>\n",
       "</table>\n",
       "</div>"
      ],
      "text/plain": [
       "                                 ad_name ad_group_ad_status_name  \\\n",
       "0  customers/2200886572/ads/628626126369                 ENABLED   \n",
       "1  customers/2200886572/ads/631227293472                 ENABLED   \n",
       "2  customers/2200886572/ads/632904395034                  PAUSED   \n",
       "3  customers/2200886572/ads/633025103723                  PAUSED   \n",
       "\n",
       "                                           headlines  \\\n",
       "0  [{'headline': 'Продвижение товаров', 'pinned_t...   \n",
       "1  [{'headline': 'Продвижение товаров', 'pinned_t...   \n",
       "2  [{'headline': 'Заведение на маркетплейсы', 'pi...   \n",
       "3  [{'headline': 'Заведение на маркетплейсы', 'pi...   \n",
       "\n",
       "                                        descriptions  \n",
       "0  [{'description': 'Поможем с контентом', 'pinne...  \n",
       "1  [{'description': 'Поможем с контентом', 'pinne...  \n",
       "2  [{'description': 'Интегрируем все ваши продукт...  \n",
       "3  [{'description': 'Интегрируем все ваши продукт...  "
      ]
     },
     "execution_count": 27,
     "metadata": {},
     "output_type": "execute_result"
    }
   ],
   "source": [
    "pd.DataFrame(responsive_search_ads)"
   ]
  },
  {
   "cell_type": "code",
   "execution_count": 28,
   "id": "1e8f2e4a",
   "metadata": {},
   "outputs": [
    {
     "data": {
      "text/plain": [
       "[{'headline': 'Продвижение товаров', 'pinned_to': 'UNSPECIFIED'},\n",
       " {'headline': 'Аналитика маркетплейсов', 'pinned_to': 'UNSPECIFIED'},\n",
       " {'headline': 'Автоматизация маркетплейсов', 'pinned_to': 'UNSPECIFIED'},\n",
       " {'headline': 'Увеличение продаж', 'pinned_to': 'UNSPECIFIED'},\n",
       " {'headline': 'Обучение работе', 'pinned_to': 'UNSPECIFIED'}]"
      ]
     },
     "execution_count": 28,
     "metadata": {},
     "output_type": "execute_result"
    }
   ],
   "source": [
    "pd.DataFrame(responsive_search_ads).headlines[0]"
   ]
  },
  {
   "cell_type": "code",
   "execution_count": 30,
   "id": "90435f95",
   "metadata": {},
   "outputs": [
    {
     "data": {
      "text/plain": [
       "[{'description': 'Поможем с контентом', 'pinned_to': 'UNSPECIFIED'},\n",
       " {'description': 'Обучим работе', 'pinned_to': 'UNSPECIFIED'}]"
      ]
     },
     "execution_count": 30,
     "metadata": {},
     "output_type": "execute_result"
    }
   ],
   "source": [
    "pd.DataFrame(responsive_search_ads).descriptions[0]"
   ]
  },
  {
   "cell_type": "markdown",
   "id": "8ab1fa00",
   "metadata": {},
   "source": [
    "### Приостановить объявление"
   ]
  },
  {
   "cell_type": "code",
   "execution_count": null,
   "id": "c28a3322",
   "metadata": {},
   "outputs": [],
   "source": []
  },
  {
   "cell_type": "code",
   "execution_count": null,
   "id": "2203400d",
   "metadata": {},
   "outputs": [],
   "source": []
  },
  {
   "cell_type": "code",
   "execution_count": null,
   "id": "0e404de0",
   "metadata": {},
   "outputs": [],
   "source": []
  },
  {
   "cell_type": "code",
   "execution_count": null,
   "id": "a71fd29a",
   "metadata": {},
   "outputs": [],
   "source": []
  },
  {
   "cell_type": "code",
   "execution_count": null,
   "id": "892a138f",
   "metadata": {},
   "outputs": [],
   "source": []
  },
  {
   "cell_type": "code",
   "execution_count": null,
   "id": "117a2725",
   "metadata": {},
   "outputs": [],
   "source": []
  },
  {
   "cell_type": "code",
   "execution_count": null,
   "id": "7eb16e9b",
   "metadata": {},
   "outputs": [],
   "source": []
  },
  {
   "cell_type": "code",
   "execution_count": null,
   "id": "0ba28175",
   "metadata": {},
   "outputs": [],
   "source": []
  },
  {
   "cell_type": "code",
   "execution_count": null,
   "id": "76762735",
   "metadata": {},
   "outputs": [],
   "source": []
  },
  {
   "cell_type": "code",
   "execution_count": 21,
   "id": "2e45488c",
   "metadata": {},
   "outputs": [
    {
     "data": {
      "text/plain": [
       "['Заведение на маркетплейсы',\n",
       " 'Продвижение на маркетплейсах',\n",
       " 'E-commerce интеграция']"
      ]
     },
     "execution_count": 21,
     "metadata": {},
     "output_type": "execute_result"
    }
   ],
   "source": [
    "headlines_=['Заведение на маркетплейсы', 'Продвижение на маркетплейсах','E-commerce интеграция']\n",
    "[headline_ for headline_ in headlines_]"
   ]
  },
  {
   "cell_type": "code",
   "execution_count": null,
   "id": "cbe57e16",
   "metadata": {},
   "outputs": [],
   "source": []
  },
  {
   "cell_type": "code",
   "execution_count": null,
   "id": "37678342",
   "metadata": {},
   "outputs": [],
   "source": []
  },
  {
   "cell_type": "code",
   "execution_count": null,
   "id": "0b8e7741",
   "metadata": {},
   "outputs": [],
   "source": []
  },
  {
   "cell_type": "code",
   "execution_count": null,
   "id": "ad33e600",
   "metadata": {},
   "outputs": [],
   "source": []
  },
  {
   "cell_type": "code",
   "execution_count": null,
   "id": "78ef38d8",
   "metadata": {},
   "outputs": [],
   "source": []
  },
  {
   "cell_type": "code",
   "execution_count": 22,
   "id": "c2c1de02",
   "metadata": {},
   "outputs": [
    {
     "data": {
      "text/plain": [
       "26"
      ]
     },
     "execution_count": 22,
     "metadata": {},
     "output_type": "execute_result"
    }
   ],
   "source": [
    "len('onbording-na-marketplejsy/')"
   ]
  },
  {
   "cell_type": "code",
   "execution_count": null,
   "id": "3554d979",
   "metadata": {},
   "outputs": [],
   "source": []
  },
  {
   "cell_type": "code",
   "execution_count": null,
   "id": "65ce7000",
   "metadata": {},
   "outputs": [],
   "source": []
  },
  {
   "cell_type": "code",
   "execution_count": 22,
   "id": "f05575c1",
   "metadata": {},
   "outputs": [
    {
     "data": {
      "text/plain": [
       "[1, 2, 3, 4, 5, 6]"
      ]
     },
     "execution_count": 22,
     "metadata": {},
     "output_type": "execute_result"
    }
   ],
   "source": [
    "[1, 2, 3] + [4, 5, 6]"
   ]
  },
  {
   "cell_type": "code",
   "execution_count": 23,
   "id": "6a223852",
   "metadata": {},
   "outputs": [
    {
     "data": {
      "text/plain": [
       "6"
      ]
     },
     "execution_count": 23,
     "metadata": {},
     "output_type": "execute_result"
    }
   ],
   "source": [
    "max([1, 2, 3, 4, 5, 6])"
   ]
  },
  {
   "cell_type": "code",
   "execution_count": 24,
   "id": "516bb008",
   "metadata": {},
   "outputs": [
    {
     "data": {
      "text/plain": [
       "21"
      ]
     },
     "execution_count": 24,
     "metadata": {},
     "output_type": "execute_result"
    }
   ],
   "source": [
    "lll = ['dwd', 'wsdwffffffffff', 'dwwwwwwwwwwwwwwwwwwww', 'sd']\n",
    "\n",
    "max([len(ww) for ww in lll])"
   ]
  },
  {
   "cell_type": "code",
   "execution_count": 25,
   "id": "55f7c828",
   "metadata": {},
   "outputs": [
    {
     "data": {
      "text/plain": [
       "4"
      ]
     },
     "execution_count": 25,
     "metadata": {},
     "output_type": "execute_result"
    }
   ],
   "source": [
    "len('ss e')"
   ]
  },
  {
   "cell_type": "code",
   "execution_count": null,
   "id": "7a58a512",
   "metadata": {},
   "outputs": [],
   "source": []
  },
  {
   "cell_type": "code",
   "execution_count": null,
   "id": "d7d32bd2",
   "metadata": {},
   "outputs": [],
   "source": []
  },
  {
   "cell_type": "code",
   "execution_count": 14,
   "id": "9c00d5a0",
   "metadata": {},
   "outputs": [
    {
     "data": {
      "text/plain": [
       "datetime.date(2022, 11, 3)"
      ]
     },
     "execution_count": 14,
     "metadata": {},
     "output_type": "execute_result"
    }
   ],
   "source": [
    "datetime.date.today() + datetime.timedelta(days=1)"
   ]
  },
  {
   "cell_type": "code",
   "execution_count": 17,
   "id": "2d4eb08d",
   "metadata": {},
   "outputs": [
    {
     "name": "stdout",
     "output_type": "stream",
     "text": [
      "2022-11-03\n"
     ]
    }
   ],
   "source": [
    "print(datetime.date.today() + datetime.timedelta(days=1))"
   ]
  },
  {
   "cell_type": "code",
   "execution_count": 27,
   "id": "8a9a13b0",
   "metadata": {},
   "outputs": [],
   "source": [
    "date_from = '2022-11-02'"
   ]
  },
  {
   "cell_type": "code",
   "execution_count": 28,
   "id": "82e0d472",
   "metadata": {},
   "outputs": [
    {
     "data": {
      "text/plain": [
       "datetime.date(2022, 11, 3)"
      ]
     },
     "execution_count": 28,
     "metadata": {},
     "output_type": "execute_result"
    }
   ],
   "source": [
    "datetime.datetime.strptime(date_from, '%Y-%m-%d').date() + datetime.timedelta(days=1)"
   ]
  },
  {
   "cell_type": "code",
   "execution_count": null,
   "id": "1b478882",
   "metadata": {},
   "outputs": [],
   "source": []
  },
  {
   "cell_type": "code",
   "execution_count": null,
   "id": "a5157927",
   "metadata": {},
   "outputs": [],
   "source": []
  },
  {
   "cell_type": "code",
   "execution_count": null,
   "id": "09030de0",
   "metadata": {},
   "outputs": [],
   "source": []
  },
  {
   "cell_type": "code",
   "execution_count": null,
   "id": "bd3ff558",
   "metadata": {},
   "outputs": [],
   "source": []
  }
 ],
 "metadata": {
  "kernelspec": {
   "display_name": "Python 3 (ipykernel)",
   "language": "python",
   "name": "python3"
  },
  "language_info": {
   "codemirror_mode": {
    "name": "ipython",
    "version": 3
   },
   "file_extension": ".py",
   "mimetype": "text/x-python",
   "name": "python",
   "nbconvert_exporter": "python",
   "pygments_lexer": "ipython3",
   "version": "3.9.12"
  }
 },
 "nbformat": 4,
 "nbformat_minor": 5
}
